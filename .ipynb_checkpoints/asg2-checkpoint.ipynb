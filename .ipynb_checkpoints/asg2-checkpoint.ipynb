{
 "cells": [
  {
   "cell_type": "code",
   "execution_count": 120,
   "metadata": {},
   "outputs": [],
   "source": [
    "import pandas as pd\n",
    "import matplotlib.pyplot as plt\n",
    "import seaborn as sns\n",
    "from apyori import apriori\n",
    "import numpy as np\n",
    "import sklearn\n",
    "from sklearn import cluster\n",
    "from sklearn.cluster import KMeans\n",
    "\n",
    "%matplotlib inline"
   ]
  },
  {
   "cell_type": "code",
   "execution_count": 125,
   "metadata": {},
   "outputs": [
    {
     "data": {
      "text/html": [
       "<div>\n",
       "<style scoped>\n",
       "    .dataframe tbody tr th:only-of-type {\n",
       "        vertical-align: middle;\n",
       "    }\n",
       "\n",
       "    .dataframe tbody tr th {\n",
       "        vertical-align: top;\n",
       "    }\n",
       "\n",
       "    .dataframe thead th {\n",
       "        text-align: right;\n",
       "    }\n",
       "</style>\n",
       "<table border=\"1\" class=\"dataframe\">\n",
       "  <thead>\n",
       "    <tr style=\"text-align: right;\">\n",
       "      <th></th>\n",
       "      <th>cellphone</th>\n",
       "      <th>hairstyle</th>\n",
       "      <th>cost</th>\n",
       "      <th>monthly_rent</th>\n",
       "      <th>transport_cost</th>\n",
       "      <th>clients_per_month</th>\n",
       "      <th>monthly_income</th>\n",
       "      <th>form_of_transport</th>\n",
       "      <th>working_hours</th>\n",
       "      <th>clients_cut per trip</th>\n",
       "      <th>shop_type</th>\n",
       "      <th>promotion_platform_1</th>\n",
       "      <th>promotion_platform_2</th>\n",
       "    </tr>\n",
       "  </thead>\n",
       "  <tbody>\n",
       "    <tr>\n",
       "      <th>0</th>\n",
       "      <td>819107859</td>\n",
       "      <td>Trim</td>\n",
       "      <td>80</td>\n",
       "      <td>2500.0</td>\n",
       "      <td>800</td>\n",
       "      <td>380</td>\n",
       "      <td>13000</td>\n",
       "      <td>taxi</td>\n",
       "      <td>6am-5pm</td>\n",
       "      <td>NaN</td>\n",
       "      <td>building</td>\n",
       "      <td>none</td>\n",
       "      <td>none</td>\n",
       "    </tr>\n",
       "    <tr>\n",
       "      <th>1</th>\n",
       "      <td>818659596</td>\n",
       "      <td>Temple Fade</td>\n",
       "      <td>70</td>\n",
       "      <td>2800.0</td>\n",
       "      <td>760</td>\n",
       "      <td>540</td>\n",
       "      <td>14000</td>\n",
       "      <td>private_car</td>\n",
       "      <td>6am-5pm</td>\n",
       "      <td>NaN</td>\n",
       "      <td>building</td>\n",
       "      <td>instagram</td>\n",
       "      <td>none</td>\n",
       "    </tr>\n",
       "    <tr>\n",
       "      <th>2</th>\n",
       "      <td>817122486</td>\n",
       "      <td>Low Fade</td>\n",
       "      <td>70</td>\n",
       "      <td>3500.0</td>\n",
       "      <td>730</td>\n",
       "      <td>520</td>\n",
       "      <td>14000</td>\n",
       "      <td>taxi</td>\n",
       "      <td>6am-12pm</td>\n",
       "      <td>NaN</td>\n",
       "      <td>building</td>\n",
       "      <td>instagram</td>\n",
       "      <td>whatsapp</td>\n",
       "    </tr>\n",
       "    <tr>\n",
       "      <th>3</th>\n",
       "      <td>813777117</td>\n",
       "      <td>Mohawk</td>\n",
       "      <td>70</td>\n",
       "      <td>3800.0</td>\n",
       "      <td>410</td>\n",
       "      <td>360</td>\n",
       "      <td>14000</td>\n",
       "      <td>taxi</td>\n",
       "      <td>6am-5pm</td>\n",
       "      <td>NaN</td>\n",
       "      <td>building</td>\n",
       "      <td>none</td>\n",
       "      <td>none</td>\n",
       "    </tr>\n",
       "    <tr>\n",
       "      <th>4</th>\n",
       "      <td>817028800</td>\n",
       "      <td>Low Fade</td>\n",
       "      <td>60</td>\n",
       "      <td>2200.0</td>\n",
       "      <td>580</td>\n",
       "      <td>550</td>\n",
       "      <td>15000</td>\n",
       "      <td>taxi</td>\n",
       "      <td>6am-12pm</td>\n",
       "      <td>NaN</td>\n",
       "      <td>building</td>\n",
       "      <td>none</td>\n",
       "      <td>none</td>\n",
       "    </tr>\n",
       "  </tbody>\n",
       "</table>\n",
       "</div>"
      ],
      "text/plain": [
       "   cellphone    hairstyle  cost  monthly_rent  transport_cost  \\\n",
       "0  819107859         Trim    80        2500.0             800   \n",
       "1  818659596  Temple Fade    70        2800.0             760   \n",
       "2  817122486     Low Fade    70        3500.0             730   \n",
       "3  813777117       Mohawk    70        3800.0             410   \n",
       "4  817028800     Low Fade    60        2200.0             580   \n",
       "\n",
       "   clients_per_month  monthly_income form_of_transport working_hours  \\\n",
       "0                380           13000              taxi       6am-5pm   \n",
       "1                540           14000       private_car       6am-5pm   \n",
       "2                520           14000              taxi      6am-12pm   \n",
       "3                360           14000              taxi       6am-5pm   \n",
       "4                550           15000              taxi      6am-12pm   \n",
       "\n",
       "   clients_cut per trip shop_type promotion_platform_1 promotion_platform_2  \n",
       "0                   NaN  building                 none                 none  \n",
       "1                   NaN  building            instagram                 none  \n",
       "2                   NaN  building            instagram             whatsapp  \n",
       "3                   NaN  building                 none                 none  \n",
       "4                   NaN  building                 none                 none  "
      ]
     },
     "execution_count": 125,
     "metadata": {},
     "output_type": "execute_result"
    }
   ],
   "source": [
    "df = pd.read_csv(\"./barbershop.csv\")\n",
    "df.head()\n"
   ]
  },
  {
   "cell_type": "markdown",
   "metadata": {},
   "source": [
    "What we are mining\n",
    "-which barbershop type makes more money(traditional or online based) and why\n"
   ]
  },
  {
   "cell_type": "markdown",
   "metadata": {},
   "source": [
    "Data preprossing\n",
    "-pre-data mining\n",
    "\n",
    "-cleaning\n"
   ]
  },
  {
   "cell_type": "code",
   "execution_count": 22,
   "metadata": {},
   "outputs": [
    {
     "data": {
      "text/plain": [
       "cellphone               False\n",
       "hairstyle               False\n",
       "cost                    False\n",
       "monthly_rent             True\n",
       "transport_cost          False\n",
       "clients_per_month       False\n",
       "monthly_income          False\n",
       "form_of_transport       False\n",
       "working_hours           False\n",
       "clients_per_trip         True\n",
       "shop_type               False\n",
       "promotion_platform_1    False\n",
       "promotion_platform_2    False\n",
       "dtype: bool"
      ]
     },
     "execution_count": 22,
     "metadata": {},
     "output_type": "execute_result"
    }
   ],
   "source": [
    "#check if there are any null values\n",
    "df.isnull().any()"
   ]
  },
  {
   "cell_type": "markdown",
   "metadata": {},
   "source": [
    "Replace missing values depending on the data type,\n"
   ]
  },
  {
   "cell_type": "code",
   "execution_count": 27,
   "metadata": {},
   "outputs": [],
   "source": [
    "median = df['transport_cost'].median()\n",
    "df.fillna({'monthly_rent':0, 'clients_per_trip': 0, 'transport_cost':median}, inplace=True)\n",
    "# res = df.apply(lambda x: x.fillna(0) if x.dtype.kind in 'biufc' else x.fillna('.'))"
   ]
  },
  {
   "cell_type": "code",
   "execution_count": 29,
   "metadata": {},
   "outputs": [
    {
     "data": {
      "text/plain": [
       "hairstyle                object\n",
       "cost                      int64\n",
       "monthly_rent            float64\n",
       "transport_cost            int64\n",
       "clients_per_month         int64\n",
       "monthly_income            int64\n",
       "form_of_transport        object\n",
       "clients_per_trip        float64\n",
       "shop_type                object\n",
       "promotion_platform_1     object\n",
       "promotion_platform_2     object\n",
       "dtype: object"
      ]
     },
     "execution_count": 29,
     "metadata": {},
     "output_type": "execute_result"
    }
   ],
   "source": [
    "#drop redundant working_hours column\n",
    "df.drop(columns=['working_hours', 'cellphone'], inplace=True)\n",
    "#check data types of our column,\n",
    "#this guides as what type operations we can perform on them\n",
    "#and the graphs that will be suitable to represent them\n",
    "df.dtypes"
   ]
  },
  {
   "cell_type": "markdown",
   "metadata": {},
   "source": [
    "Calculate the avarage null values in the dataset\n",
    "This tells us that:\n",
    "overrall most of the columns are filled\n",
    "50% of the records in the monthly rent column are null\n",
    "while only 49% in clients cut per trip are null"
   ]
  },
  {
   "cell_type": "code",
   "execution_count": 5,
   "metadata": {},
   "outputs": [
    {
     "data": {
      "text/plain": [
       "cellphone               0.00\n",
       "hairstyle               0.00\n",
       "cost                    0.00\n",
       "monthly_rent            0.50\n",
       "transport_cost          0.00\n",
       "clients_per_month       0.00\n",
       "monthly_income          0.00\n",
       "form_of_transport       0.00\n",
       "working_hours           0.00\n",
       "clients_cut per trip    0.48\n",
       "shop_type               0.00\n",
       "promotion_platform_1    0.00\n",
       "promotion_platform_2    0.00\n",
       "dtype: float64"
      ]
     },
     "execution_count": 5,
     "metadata": {},
     "output_type": "execute_result"
    }
   ],
   "source": [
    "df.isnull().sum() / len(df)"
   ]
  },
  {
   "cell_type": "markdown",
   "metadata": {},
   "source": [
    "Format all string types to lower case"
   ]
  },
  {
   "cell_type": "code",
   "execution_count": null,
   "metadata": {},
   "outputs": [],
   "source": [
    "df['hairstyle'].str.lower()"
   ]
  },
  {
   "cell_type": "markdown",
   "metadata": {},
   "source": [
    "Fix column names that might cause issues down the road"
   ]
  },
  {
   "cell_type": "code",
   "execution_count": 19,
   "metadata": {},
   "outputs": [],
   "source": [
    "df.rename(columns={'clients_cut per trip':'clients_per_trip'}, inplace=True)"
   ]
  },
  {
   "cell_type": "markdown",
   "metadata": {},
   "source": [
    "# 1.Data Modeling\n",
    "Data modeling refers to a group of processes in which multiple sets of data are combined and analyzed \n",
    "to uncover relationships or patterns. The goal of data modeling is to use past data to inform future efforts."
   ]
  },
  {
   "cell_type": "code",
   "execution_count": 30,
   "metadata": {},
   "outputs": [
    {
     "data": {
      "text/html": [
       "<div>\n",
       "<style scoped>\n",
       "    .dataframe tbody tr th:only-of-type {\n",
       "        vertical-align: middle;\n",
       "    }\n",
       "\n",
       "    .dataframe tbody tr th {\n",
       "        vertical-align: top;\n",
       "    }\n",
       "\n",
       "    .dataframe thead th {\n",
       "        text-align: right;\n",
       "    }\n",
       "</style>\n",
       "<table border=\"1\" class=\"dataframe\">\n",
       "  <thead>\n",
       "    <tr style=\"text-align: right;\">\n",
       "      <th></th>\n",
       "      <th>cost</th>\n",
       "      <th>monthly_rent</th>\n",
       "      <th>transport_cost</th>\n",
       "      <th>clients_per_month</th>\n",
       "      <th>monthly_income</th>\n",
       "      <th>clients_per_trip</th>\n",
       "    </tr>\n",
       "  </thead>\n",
       "  <tbody>\n",
       "    <tr>\n",
       "      <th>count</th>\n",
       "      <td>50.000000</td>\n",
       "      <td>50.00000</td>\n",
       "      <td>50.000000</td>\n",
       "      <td>50.000000</td>\n",
       "      <td>50.00000</td>\n",
       "      <td>50.000000</td>\n",
       "    </tr>\n",
       "    <tr>\n",
       "      <th>mean</th>\n",
       "      <td>70.600000</td>\n",
       "      <td>1484.00000</td>\n",
       "      <td>590.600000</td>\n",
       "      <td>460.800000</td>\n",
       "      <td>21460.00000</td>\n",
       "      <td>1.260000</td>\n",
       "    </tr>\n",
       "    <tr>\n",
       "      <th>std</th>\n",
       "      <td>13.910795</td>\n",
       "      <td>1548.45018</td>\n",
       "      <td>120.516067</td>\n",
       "      <td>69.188887</td>\n",
       "      <td>5639.54695</td>\n",
       "      <td>1.723902</td>\n",
       "    </tr>\n",
       "    <tr>\n",
       "      <th>min</th>\n",
       "      <td>50.000000</td>\n",
       "      <td>0.00000</td>\n",
       "      <td>400.000000</td>\n",
       "      <td>340.000000</td>\n",
       "      <td>12000.00000</td>\n",
       "      <td>0.000000</td>\n",
       "    </tr>\n",
       "    <tr>\n",
       "      <th>25%</th>\n",
       "      <td>60.000000</td>\n",
       "      <td>0.00000</td>\n",
       "      <td>485.000000</td>\n",
       "      <td>382.500000</td>\n",
       "      <td>16250.00000</td>\n",
       "      <td>0.000000</td>\n",
       "    </tr>\n",
       "    <tr>\n",
       "      <th>50%</th>\n",
       "      <td>70.000000</td>\n",
       "      <td>1000.00000</td>\n",
       "      <td>615.000000</td>\n",
       "      <td>470.000000</td>\n",
       "      <td>22000.00000</td>\n",
       "      <td>1.000000</td>\n",
       "    </tr>\n",
       "    <tr>\n",
       "      <th>75%</th>\n",
       "      <td>80.000000</td>\n",
       "      <td>3100.00000</td>\n",
       "      <td>697.500000</td>\n",
       "      <td>520.000000</td>\n",
       "      <td>26000.00000</td>\n",
       "      <td>2.000000</td>\n",
       "    </tr>\n",
       "    <tr>\n",
       "      <th>max</th>\n",
       "      <td>90.000000</td>\n",
       "      <td>3800.00000</td>\n",
       "      <td>800.000000</td>\n",
       "      <td>550.000000</td>\n",
       "      <td>34000.00000</td>\n",
       "      <td>7.000000</td>\n",
       "    </tr>\n",
       "  </tbody>\n",
       "</table>\n",
       "</div>"
      ],
      "text/plain": [
       "            cost  monthly_rent  transport_cost  clients_per_month  \\\n",
       "count  50.000000      50.00000       50.000000          50.000000   \n",
       "mean   70.600000    1484.00000      590.600000         460.800000   \n",
       "std    13.910795    1548.45018      120.516067          69.188887   \n",
       "min    50.000000       0.00000      400.000000         340.000000   \n",
       "25%    60.000000       0.00000      485.000000         382.500000   \n",
       "50%    70.000000    1000.00000      615.000000         470.000000   \n",
       "75%    80.000000    3100.00000      697.500000         520.000000   \n",
       "max    90.000000    3800.00000      800.000000         550.000000   \n",
       "\n",
       "       monthly_income  clients_per_trip  \n",
       "count        50.00000         50.000000  \n",
       "mean      21460.00000          1.260000  \n",
       "std        5639.54695          1.723902  \n",
       "min       12000.00000          0.000000  \n",
       "25%       16250.00000          0.000000  \n",
       "50%       22000.00000          1.000000  \n",
       "75%       26000.00000          2.000000  \n",
       "max       34000.00000          7.000000  "
      ]
     },
     "execution_count": 30,
     "metadata": {},
     "output_type": "execute_result"
    }
   ],
   "source": [
    "df.describe()"
   ]
  },
  {
   "cell_type": "markdown",
   "metadata": {},
   "source": []
  },
  {
   "cell_type": "markdown",
   "metadata": {},
   "source": [
    "**Data Distribution**"
   ]
  },
  {
   "cell_type": "code",
   "execution_count": 36,
   "metadata": {},
   "outputs": [
    {
     "data": {
      "text/plain": [
       "<matplotlib.axes._subplots.AxesSubplot at 0x7fc1346f35d0>"
      ]
     },
     "execution_count": 36,
     "metadata": {},
     "output_type": "execute_result"
    },
    {
     "data": {
      "image/png": "[encoded data removed]",
      "text/plain": [
       "<Figure size 432x288 with 1 Axes>"
      ]
     },
     "metadata": {
      "needs_background": "light"
     },
     "output_type": "display_data"
    }
   ],
   "source": [
    "filter_data = df.dropna(subset=['cost'])\n",
    "sns.distplot(filter_data['cost'])"
   ]
  },
  {
   "cell_type": "markdown",
   "metadata": {},
   "source": [
    "**Statistical Regression**"
   ]
  },
  {
   "cell_type": "code",
   "execution_count": 5,
   "metadata": {},
   "outputs": [],
   "source": [
    "#linear regression\n",
    "import statsmodels.api as sm\n",
    "from statsmodels.formula.api import ols"
   ]
  },
  {
   "cell_type": "code",
   "execution_count": 6,
   "metadata": {},
   "outputs": [
    {
     "name": "stdout",
     "output_type": "stream",
     "text": [
      "                            OLS Regression Results                            \n",
      "==============================================================================\n",
      "Dep. Variable:         monthly_income   R-squared:                       0.004\n",
      "Model:                            OLS   Adj. R-squared:                 -0.038\n",
      "Method:                 Least Squares   F-statistic:                   0.09293\n",
      "Date:                Sun, 28 Jun 2020   Prob (F-statistic):              0.911\n",
      "Time:                        03:39:50   Log-Likelihood:                -502.22\n",
      "No. Observations:                  50   AIC:                             1010.\n",
      "Df Residuals:                      47   BIC:                             1016.\n",
      "Df Model:                           2                                         \n",
      "Covariance Type:            nonrobust                                         \n",
      "=====================================================================================\n",
      "                        coef    std err          t      P>|t|      [0.025      0.975]\n",
      "-------------------------------------------------------------------------------------\n",
      "Intercept           1.93e+04   6686.463      2.886      0.006    5846.373    3.27e+04\n",
      "clients_per_month     1.0446     11.880      0.088      0.930     -22.855      24.944\n",
      "transport_cost        2.8460      6.820      0.417      0.678     -10.875      16.567\n",
      "==============================================================================\n",
      "Omnibus:                        7.759   Durbin-Watson:                   0.218\n",
      "Prob(Omnibus):                  0.021   Jarque-Bera (JB):                2.502\n",
      "Skew:                          -0.030   Prob(JB):                        0.286\n",
      "Kurtosis:                       1.906   Cond. No.                     6.22e+03\n",
      "==============================================================================\n",
      "\n",
      "Warnings:\n",
      "[1] Standard Errors assume that the covariance matrix of the errors is correctly specified.\n",
      "[2] The condition number is large, 6.22e+03. This might indicate that there are\n",
      "strong multicollinearity or other numerical problems.\n"
     ]
    }
   ],
   "source": [
    "m = ols('monthly_income ~ clients_per_month + transport_cost', df).fit()\n",
    "print(m.summary())"
   ]
  },
  {
   "cell_type": "code",
   "execution_count": 8,
   "metadata": {
    "scrolled": true
   },
   "outputs": [
    {
     "data": {
      "image/png": "[encoded data removed]",
      "text/plain": [
       "<Figure size 436.375x360 with 1 Axes>"
      ]
     },
     "metadata": {
      "needs_background": "light"
     },
     "output_type": "display_data"
    }
   ],
   "source": [
    "sns.lmplot(x=\"clients_per_month\", y=\"monthly_income\", hue=\"shop_type\", data=df, markers=[\"o\", \"x\"])\n",
    "plt.show()"
   ]
  },
  {
   "cell_type": "markdown",
   "metadata": {},
   "source": [
    "# 2.Identifying Patterns "
   ]
  },
  {
   "cell_type": "code",
   "execution_count": 174,
   "metadata": {},
   "outputs": [],
   "source": [
    "df2 = df[['monthly_income','cost']]\n",
    "\n",
    "records = []\n",
    "for i in range(0, df2.shape[0]):\n",
    "    records.append([str(df2.values[i,j]) for j in range(0, len(df2.columns))])\n",
    "\n",
    "association_rules = apriori(records, min_support=0.0045, min_confidence=0.2, min_lift=3, min_length=2)\n",
    "association_results = list(association_rules)\n"
   ]
  },
  {
   "cell_type": "code",
   "execution_count": 175,
   "metadata": {},
   "outputs": [
    {
     "name": "stdout",
     "output_type": "stream",
     "text": [
      "Rule: 90 -> 12000\n",
      "Support: 0.02\n",
      "Confidence: 1.0\n",
      "Lift: 5.0\n",
      "=====================================\n",
      "Rule: 14000 -> 70\n",
      "Support: 0.06\n",
      "Confidence: 1.0\n",
      "Lift: 3.3333333333333335\n",
      "=====================================\n",
      "Rule: 17000 -> 50\n",
      "Support: 0.04\n",
      "Confidence: 0.6666666666666667\n",
      "Lift: 3.3333333333333335\n",
      "=====================================\n",
      "Rule: 80 -> 18000\n",
      "Support: 0.04\n",
      "Confidence: 1.0\n",
      "Lift: 5.555555555555555\n",
      "=====================================\n",
      "Rule: 70 -> 20000\n",
      "Support: 0.02\n",
      "Confidence: 1.0\n",
      "Lift: 3.3333333333333335\n",
      "=====================================\n",
      "Rule: 60 -> 23000\n",
      "Support: 0.02\n",
      "Confidence: 0.5\n",
      "Lift: 4.166666666666667\n",
      "=====================================\n",
      "Rule: 60 -> 25000\n",
      "Support: 0.04\n",
      "Confidence: 0.39999999999999997\n",
      "Lift: 3.333333333333333\n",
      "=====================================\n",
      "Rule: 60 -> 28000\n",
      "Support: 0.04\n",
      "Confidence: 0.39999999999999997\n",
      "Lift: 3.333333333333333\n",
      "=====================================\n",
      "Rule: 80 -> 34000\n",
      "Support: 0.02\n",
      "Confidence: 1.0\n",
      "Lift: 5.555555555555555\n",
      "=====================================\n"
     ]
    }
   ],
   "source": [
    "for item in association_results:\n",
    "\n",
    "    # first index of the inner list\n",
    "    # Contains base item and add item\n",
    "    pair = item[0] \n",
    "    items = [x for x in pair]\n",
    "    print(\"Rule: \" + items[0] + \" -> \" + items[1])\n",
    "\n",
    "    #second index of the inner list\n",
    "    print(\"Support: \" + str(item[1]))\n",
    "\n",
    "    #third index of the list located at 0th\n",
    "    #of the third index of the inner list\n",
    "\n",
    "    print(\"Confidence: \" + str(item[2][0][2]))\n",
    "    print(\"Lift: \" + str(item[2][0][3]))\n",
    "    print(\"=====================================\")"
   ]
  },
  {
   "cell_type": "markdown",
   "metadata": {},
   "source": [
    "# 3.Data Visualization"
   ]
  },
  {
   "cell_type": "markdown",
   "metadata": {},
   "source": [
    "**Scatter Plot**"
   ]
  },
  {
   "cell_type": "code",
   "execution_count": 19,
   "metadata": {},
   "outputs": [
    {
     "data": {
      "text/plain": [
       "Text(0, 0.5, 'Clients per Month')"
      ]
     },
     "execution_count": 19,
     "metadata": {},
     "output_type": "execute_result"
    },
    {
     "data": {
      "image/png": "[encoded data removed]",
      "text/plain": [
       "<Figure size 432x288 with 1 Axes>"
      ]
     },
     "metadata": {
      "needs_background": "light"
     },
     "output_type": "display_data"
    }
   ],
   "source": [
    "plt.scatter(df.clients_per_month, df.monthly_income)\n",
    "plt.title('Barbershop Scatterplot')\n",
    "plt.xlabel('Monthly Income')\n",
    "plt.ylabel('Clients per Month')"
   ]
  },
  {
   "cell_type": "markdown",
   "metadata": {},
   "source": [
    "**Data Cluster**"
   ]
  },
  {
   "cell_type": "code",
   "execution_count": 132,
   "metadata": {},
   "outputs": [
    {
     "data": {
      "image/png": "[encoded data removed]",
      "text/plain": [
       "<Figure size 432x288 with 1 Axes>"
      ]
     },
     "metadata": {
      "needs_background": "light"
     },
     "output_type": "display_data"
    }
   ],
   "source": [
    "df2 = df.dropna(axis='columns')\n",
    "kmeans = KMeans(n_clusters=2).fit(df2._get_numeric_data())\n",
    "centroids = kmeans.cluster_centers_\n",
    "\n",
    "plt.scatter(df['clients_per_month'], df['monthly_income'], c=kmeans.labels_, cmap='rainbow')\n",
    "plt.show()"
   ]
  },
  {
   "cell_type": "markdown",
   "metadata": {},
   "source": [
    "**Histogram**"
   ]
  },
  {
   "cell_type": "code",
   "execution_count": 118,
   "metadata": {},
   "outputs": [
    {
     "data": {
      "image/png": "[encoded data removed]",
      "text/plain": [
       "<Figure size 864x432 with 2 Axes>"
      ]
     },
     "metadata": {},
     "output_type": "display_data"
    }
   ],
   "source": [
    "fig = plt.figure(figsize=(12, 6))\n",
    "clients = fig.add_subplot(121)\n",
    "income = fig.add_subplot(122)\n",
    "\n",
    "clients.hist(df.clients_per_month)\n",
    "clients.set_xlabel('Count')\n",
    "clients.set_title(\"Clients per Month\")\n",
    "\n",
    "income.hist(df.monthly_income)\n",
    "income.set_xlabel('N$')\n",
    "income.set_title(\"Monthly Barber Income\")\n",
    "\n",
    "plt.show()"
   ]
  },
  {
   "cell_type": "markdown",
   "metadata": {},
   "source": [
    "**Box Plot**"
   ]
  },
  {
   "cell_type": "code",
   "execution_count": 119,
   "metadata": {},
   "outputs": [
    {
     "data": {
      "image/png": "[encoded data removed]",
      "text/plain": [
       "<Figure size 432x288 with 1 Axes>"
      ]
     },
     "metadata": {},
     "output_type": "display_data"
    }
   ],
   "source": [
    "ax = sns.boxplot(x='shop_type', y='monthly_income', data=df, orient=\"v\")"
   ]
  },
  {
   "cell_type": "markdown",
   "metadata": {},
   "source": [
    "**Pie Chart**"
   ]
  },
  {
   "cell_type": "code",
   "execution_count": 112,
   "metadata": {},
   "outputs": [
    {
     "data": {
      "image/png": "[encoded data removed]",
      "text/plain": [
       "<Figure size 864x864 with 2 Axes>"
      ]
     },
     "metadata": {},
     "output_type": "display_data"
    }
   ],
   "source": [
    "fig = plt.figure()\n",
    "fig.set_figheight(12)\n",
    "fig.set_figwidth(12)\n",
    "\n",
    "one = fig.add_subplot(121)\n",
    "two = fig.add_subplot(122)\n",
    "\n",
    "one.set_title(\"Primary Promotion Platform\")\n",
    "two.set_title(\"Secondary Promotion Platform\")\n",
    "type_counts = df['promotion_platform_1'].value_counts()\n",
    "df2 = pd.DataFrame({'prtype': type_counts}, \n",
    "                  index = ['instagram', 'none', 'whatsapp', 'facebook'])\n",
    "\n",
    "one.pie(df2['prtype'],labels=['instagram', 'none', 'whatsapp', 'facebook'], autopct='%1.1f%%')\n",
    "type_counts = df['promotion_platform_2'].value_counts()\n",
    "df2 = pd.DataFrame({'prtype': type_counts}, \n",
    "                  index = ['instagram', 'none', 'whatsapp', 'facebook'])\n",
    "\n",
    "two.pie(df2['prtype'],labels=['instagram', 'none', 'whatsapp', 'facebook'], autopct='%1.1f%%')\n",
    "\n",
    "plt.show(block=False)"
   ]
  },
  {
   "cell_type": "markdown",
   "metadata": {},
   "source": [
    "**Bar Graph**"
   ]
  },
  {
   "cell_type": "code",
   "execution_count": 40,
   "metadata": {
    "scrolled": true
   },
   "outputs": [
    {
     "data": {
      "image/png": "[encoded data removed]",
      "text/plain": [
       "<Figure size 432x288 with 1 Axes>"
      ]
     },
     "metadata": {},
     "output_type": "display_data"
    }
   ],
   "source": [
    "ax = sns.countplot(x='hairstyle', data=df)"
   ]
  },
  {
   "cell_type": "markdown",
   "metadata": {},
   "source": [
    "# 4.Prototype\n",
    "\n",
    "(Transitioning modelling - show using a graph and little explanation)"
   ]
  },
  {
   "cell_type": "code",
   "execution_count": null,
   "metadata": {},
   "outputs": [],
   "source": []
  }
 ],
 "metadata": {
  "kernelspec": {
   "display_name": "Python 3",
   "language": "python",
   "name": "python3"
  },
  "language_info": {
   "codemirror_mode": {
    "name": "ipython",
    "version": 3
   },
   "file_extension": ".py",
   "mimetype": "text/x-python",
   "name": "python",
   "nbconvert_exporter": "python",
   "pygments_lexer": "ipython3",
   "version": "3.7.6"
  }
 },
 "nbformat": 4,
 "nbformat_minor": 4
}
