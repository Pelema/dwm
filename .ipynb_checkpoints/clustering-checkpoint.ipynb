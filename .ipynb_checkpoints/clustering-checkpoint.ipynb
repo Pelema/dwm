{
 "cells": [
  {
   "cell_type": "code",
   "execution_count": 1,
   "metadata": {},
   "outputs": [
    {
     "name": "stdout",
     "output_type": "stream",
     "text": [
      "Populating the interactive namespace from numpy and matplotlib\n"
     ]
    }
   ],
   "source": [
    "import pandas as pd\n",
    "import matplotlib.pyplot as plt\n",
    "import numpy as np\n",
    "import scipy.stats as stats\n",
    "import seaborn as sns\n",
    "from matplotlib import rcParams\n",
    "\n",
    "%matplotlib inline\n",
    "%pylab inline"
   ]
  },
  {
   "cell_type": "code",
   "execution_count": 3,
   "metadata": {},
   "outputs": [
    {
     "data": {
      "text/html": [
       "<div>\n",
       "<style scoped>\n",
       "    .dataframe tbody tr th:only-of-type {\n",
       "        vertical-align: middle;\n",
       "    }\n",
       "\n",
       "    .dataframe tbody tr th {\n",
       "        vertical-align: top;\n",
       "    }\n",
       "\n",
       "    .dataframe thead th {\n",
       "        text-align: right;\n",
       "    }\n",
       "</style>\n",
       "<table border=\"1\" class=\"dataframe\">\n",
       "  <thead>\n",
       "    <tr style=\"text-align: right;\">\n",
       "      <th></th>\n",
       "      <th>cellphone</th>\n",
       "      <th>hairstyle</th>\n",
       "      <th>cost</th>\n",
       "      <th>monthly_rent</th>\n",
       "      <th>transport_cost</th>\n",
       "      <th>clients_per_month</th>\n",
       "      <th>monthly_income</th>\n",
       "      <th>form_of_transport</th>\n",
       "      <th>working_hours</th>\n",
       "      <th>clients_cut per trip</th>\n",
       "      <th>shop_type</th>\n",
       "      <th>promotion_platform_1</th>\n",
       "      <th>promotion_platform_2</th>\n",
       "    </tr>\n",
       "  </thead>\n",
       "  <tbody>\n",
       "    <tr>\n",
       "      <th>0</th>\n",
       "      <td>819107859</td>\n",
       "      <td>Trim</td>\n",
       "      <td>80</td>\n",
       "      <td>2500.0</td>\n",
       "      <td>800</td>\n",
       "      <td>380</td>\n",
       "      <td>13000</td>\n",
       "      <td>taxi</td>\n",
       "      <td>6am-5pm</td>\n",
       "      <td>0</td>\n",
       "      <td>building</td>\n",
       "      <td>none</td>\n",
       "      <td>none</td>\n",
       "    </tr>\n",
       "    <tr>\n",
       "      <th>1</th>\n",
       "      <td>818659596</td>\n",
       "      <td>Temple Fade</td>\n",
       "      <td>70</td>\n",
       "      <td>2800.0</td>\n",
       "      <td>760</td>\n",
       "      <td>540</td>\n",
       "      <td>14000</td>\n",
       "      <td>private_car</td>\n",
       "      <td>6am-5pm</td>\n",
       "      <td>0</td>\n",
       "      <td>building</td>\n",
       "      <td>instagram</td>\n",
       "      <td>none</td>\n",
       "    </tr>\n",
       "    <tr>\n",
       "      <th>2</th>\n",
       "      <td>817122486</td>\n",
       "      <td>Low Fade</td>\n",
       "      <td>70</td>\n",
       "      <td>3500.0</td>\n",
       "      <td>730</td>\n",
       "      <td>520</td>\n",
       "      <td>14000</td>\n",
       "      <td>taxi</td>\n",
       "      <td>6am-12pm</td>\n",
       "      <td>0</td>\n",
       "      <td>building</td>\n",
       "      <td>instagram</td>\n",
       "      <td>whatsapp</td>\n",
       "    </tr>\n",
       "    <tr>\n",
       "      <th>3</th>\n",
       "      <td>813777117</td>\n",
       "      <td>Mohawk</td>\n",
       "      <td>70</td>\n",
       "      <td>3800.0</td>\n",
       "      <td>410</td>\n",
       "      <td>360</td>\n",
       "      <td>14000</td>\n",
       "      <td>taxi</td>\n",
       "      <td>6am-5pm</td>\n",
       "      <td>0</td>\n",
       "      <td>building</td>\n",
       "      <td>none</td>\n",
       "      <td>none</td>\n",
       "    </tr>\n",
       "    <tr>\n",
       "      <th>4</th>\n",
       "      <td>817028800</td>\n",
       "      <td>Low Fade</td>\n",
       "      <td>60</td>\n",
       "      <td>2200.0</td>\n",
       "      <td>580</td>\n",
       "      <td>550</td>\n",
       "      <td>15000</td>\n",
       "      <td>taxi</td>\n",
       "      <td>6am-12pm</td>\n",
       "      <td>0</td>\n",
       "      <td>building</td>\n",
       "      <td>none</td>\n",
       "      <td>none</td>\n",
       "    </tr>\n",
       "  </tbody>\n",
       "</table>\n",
       "</div>"
      ],
      "text/plain": [
       "   cellphone    hairstyle  cost  monthly_rent  transport_cost  \\\n",
       "0  819107859         Trim    80        2500.0             800   \n",
       "1  818659596  Temple Fade    70        2800.0             760   \n",
       "2  817122486     Low Fade    70        3500.0             730   \n",
       "3  813777117       Mohawk    70        3800.0             410   \n",
       "4  817028800     Low Fade    60        2200.0             580   \n",
       "\n",
       "   clients_per_month  monthly_income form_of_transport working_hours  \\\n",
       "0                380           13000              taxi       6am-5pm   \n",
       "1                540           14000       private_car       6am-5pm   \n",
       "2                520           14000              taxi      6am-12pm   \n",
       "3                360           14000              taxi       6am-5pm   \n",
       "4                550           15000              taxi      6am-12pm   \n",
       "\n",
       "   clients_cut per trip shop_type promotion_platform_1 promotion_platform_2  \n",
       "0                     0  building                 none                 none  \n",
       "1                     0  building            instagram                 none  \n",
       "2                     0  building            instagram             whatsapp  \n",
       "3                     0  building                 none                 none  \n",
       "4                     0  building                 none                 none  "
      ]
     },
     "execution_count": 3,
     "metadata": {},
     "output_type": "execute_result"
    }
   ],
   "source": [
    "df = pd.read_csv('./barbershop.csv')\n",
    "df.head()"
   ]
  },
  {
   "cell_type": "code",
   "execution_count": 3,
   "metadata": {},
   "outputs": [
    {
     "data": {
      "text/plain": [
       "cellphone               False\n",
       "hairstyle               False\n",
       "cost                    False\n",
       "monthly_rent             True\n",
       "transport_cost          False\n",
       "clients/month           False\n",
       "monthly_income          False\n",
       "form_of_transport       False\n",
       "working_hours           False\n",
       "clients_cut per trip    False\n",
       "shop_type               False\n",
       "promotion_platform_1    False\n",
       "promotion_platform_2    False\n",
       "dtype: bool"
      ]
     },
     "execution_count": 3,
     "metadata": {},
     "output_type": "execute_result"
    }
   ],
   "source": [
    "#data cleaning\n",
    "df.isnull().any()"
   ]
  },
  {
   "cell_type": "code",
   "execution_count": 4,
   "metadata": {},
   "outputs": [
    {
     "data": {
      "text/plain": [
       "cellphone                int64\n",
       "hairstyle               object\n",
       "cost                     int64\n",
       "monthly_rent            object\n",
       "transport_cost           int64\n",
       "clients/month            int64\n",
       "monthly_income          object\n",
       "form_of_transport       object\n",
       "working_hours           object\n",
       "clients_cut per trip     int64\n",
       "shop_type               object\n",
       "promotion_platform_1    object\n",
       "promotion_platform_2    object\n",
       "dtype: object"
      ]
     },
     "execution_count": 4,
     "metadata": {},
     "output_type": "execute_result"
    }
   ],
   "source": [
    "df.dtypes"
   ]
  },
  {
   "cell_type": "code",
   "execution_count": 17,
   "metadata": {},
   "outputs": [
    {
     "data": {
      "text/html": [
       "<div>\n",
       "<style scoped>\n",
       "    .dataframe tbody tr th:only-of-type {\n",
       "        vertical-align: middle;\n",
       "    }\n",
       "\n",
       "    .dataframe tbody tr th {\n",
       "        vertical-align: top;\n",
       "    }\n",
       "\n",
       "    .dataframe thead th {\n",
       "        text-align: right;\n",
       "    }\n",
       "</style>\n",
       "<table border=\"1\" class=\"dataframe\">\n",
       "  <thead>\n",
       "    <tr style=\"text-align: right;\">\n",
       "      <th></th>\n",
       "      <th>cellphone</th>\n",
       "      <th>cost</th>\n",
       "      <th>monthly_rent</th>\n",
       "      <th>transport_cost</th>\n",
       "      <th>clients_per_month</th>\n",
       "      <th>monthly_income</th>\n",
       "      <th>clients_cut per trip</th>\n",
       "    </tr>\n",
       "  </thead>\n",
       "  <tbody>\n",
       "    <tr>\n",
       "      <th>count</th>\n",
       "      <td>5.000000e+01</td>\n",
       "      <td>50.000000</td>\n",
       "      <td>26.000000</td>\n",
       "      <td>50.000000</td>\n",
       "      <td>50.000000</td>\n",
       "      <td>50.00000</td>\n",
       "      <td>50.000000</td>\n",
       "    </tr>\n",
       "    <tr>\n",
       "      <th>mean</th>\n",
       "      <td>8.147233e+08</td>\n",
       "      <td>70.600000</td>\n",
       "      <td>2853.846154</td>\n",
       "      <td>590.600000</td>\n",
       "      <td>460.800000</td>\n",
       "      <td>21460.00000</td>\n",
       "      <td>1.260000</td>\n",
       "    </tr>\n",
       "    <tr>\n",
       "      <th>std</th>\n",
       "      <td>2.883557e+06</td>\n",
       "      <td>13.910795</td>\n",
       "      <td>796.105907</td>\n",
       "      <td>120.516067</td>\n",
       "      <td>69.188887</td>\n",
       "      <td>5639.54695</td>\n",
       "      <td>1.723902</td>\n",
       "    </tr>\n",
       "    <tr>\n",
       "      <th>min</th>\n",
       "      <td>8.102125e+08</td>\n",
       "      <td>50.000000</td>\n",
       "      <td>0.000000</td>\n",
       "      <td>400.000000</td>\n",
       "      <td>340.000000</td>\n",
       "      <td>12000.00000</td>\n",
       "      <td>0.000000</td>\n",
       "    </tr>\n",
       "    <tr>\n",
       "      <th>25%</th>\n",
       "      <td>8.123089e+08</td>\n",
       "      <td>60.000000</td>\n",
       "      <td>2425.000000</td>\n",
       "      <td>485.000000</td>\n",
       "      <td>382.500000</td>\n",
       "      <td>16250.00000</td>\n",
       "      <td>0.000000</td>\n",
       "    </tr>\n",
       "    <tr>\n",
       "      <th>50%</th>\n",
       "      <td>8.148060e+08</td>\n",
       "      <td>70.000000</td>\n",
       "      <td>3100.000000</td>\n",
       "      <td>615.000000</td>\n",
       "      <td>470.000000</td>\n",
       "      <td>22000.00000</td>\n",
       "      <td>1.000000</td>\n",
       "    </tr>\n",
       "    <tr>\n",
       "      <th>75%</th>\n",
       "      <td>8.170991e+08</td>\n",
       "      <td>80.000000</td>\n",
       "      <td>3375.000000</td>\n",
       "      <td>697.500000</td>\n",
       "      <td>520.000000</td>\n",
       "      <td>26000.00000</td>\n",
       "      <td>2.000000</td>\n",
       "    </tr>\n",
       "    <tr>\n",
       "      <th>max</th>\n",
       "      <td>8.197031e+08</td>\n",
       "      <td>90.000000</td>\n",
       "      <td>3800.000000</td>\n",
       "      <td>800.000000</td>\n",
       "      <td>550.000000</td>\n",
       "      <td>34000.00000</td>\n",
       "      <td>7.000000</td>\n",
       "    </tr>\n",
       "  </tbody>\n",
       "</table>\n",
       "</div>"
      ],
      "text/plain": [
       "          cellphone       cost  monthly_rent  transport_cost  \\\n",
       "count  5.000000e+01  50.000000     26.000000       50.000000   \n",
       "mean   8.147233e+08  70.600000   2853.846154      590.600000   \n",
       "std    2.883557e+06  13.910795    796.105907      120.516067   \n",
       "min    8.102125e+08  50.000000      0.000000      400.000000   \n",
       "25%    8.123089e+08  60.000000   2425.000000      485.000000   \n",
       "50%    8.148060e+08  70.000000   3100.000000      615.000000   \n",
       "75%    8.170991e+08  80.000000   3375.000000      697.500000   \n",
       "max    8.197031e+08  90.000000   3800.000000      800.000000   \n",
       "\n",
       "       clients_per_month  monthly_income  clients_cut per trip  \n",
       "count          50.000000        50.00000             50.000000  \n",
       "mean          460.800000     21460.00000              1.260000  \n",
       "std            69.188887      5639.54695              1.723902  \n",
       "min           340.000000     12000.00000              0.000000  \n",
       "25%           382.500000     16250.00000              0.000000  \n",
       "50%           470.000000     22000.00000              1.000000  \n",
       "75%           520.000000     26000.00000              2.000000  \n",
       "max           550.000000     34000.00000              7.000000  "
      ]
     },
     "execution_count": 17,
     "metadata": {},
     "output_type": "execute_result"
    }
   ],
   "source": [
    "df.describe()"
   ]
  },
  {
   "cell_type": "code",
   "execution_count": 8,
   "metadata": {},
   "outputs": [
    {
     "data": {
      "image/png": "[encoded data removed]",
      "text/plain": [
       "<Figure size 864x432 with 2 Axes>"
      ]
     },
     "metadata": {
      "needs_background": "light"
     },
     "output_type": "display_data"
    }
   ],
   "source": [
    "#plot a histogram\n",
    "fig = plt.figure(figsize=(12, 6))\n",
    "clients = fig.add_subplot(121)\n",
    "income = fig.add_subplot(122)\n",
    "\n",
    "clients.hist(df.clients_per_month, bins=80)\n",
    "clients.set_xlabel('Count')\n",
    "clients.set_title(\"Clients per Month\")\n",
    "\n",
    "income.hist(df.monthly_income, bins=80)\n",
    "income.set_xlabel('N$')\n",
    "income.set_title(\"Monthly Barber Income\")\n",
    "\n",
    "plt.show()"
   ]
  },
  {
   "cell_type": "code",
   "execution_count": 9,
   "metadata": {},
   "outputs": [],
   "source": [
    "#linear regression\n",
    "import statsmodels.api as sm\n",
    "from statsmodels.formula.api import ols"
   ]
  },
  {
   "cell_type": "code",
   "execution_count": 11,
   "metadata": {},
   "outputs": [
    {
     "name": "stdout",
     "output_type": "stream",
     "text": [
      "                            OLS Regression Results                            \n",
      "==============================================================================\n",
      "Dep. Variable:         monthly_income   R-squared:                       0.004\n",
      "Model:                            OLS   Adj. R-squared:                 -0.038\n",
      "Method:                 Least Squares   F-statistic:                   0.09293\n",
      "Date:                Thu, 25 Jun 2020   Prob (F-statistic):              0.911\n",
      "Time:                        13:42:26   Log-Likelihood:                -502.22\n",
      "No. Observations:                  50   AIC:                             1010.\n",
      "Df Residuals:                      47   BIC:                             1016.\n",
      "Df Model:                           2                                         \n",
      "Covariance Type:            nonrobust                                         \n",
      "=====================================================================================\n",
      "                        coef    std err          t      P>|t|      [0.025      0.975]\n",
      "-------------------------------------------------------------------------------------\n",
      "Intercept           1.93e+04   6686.463      2.886      0.006    5846.373    3.27e+04\n",
      "clients_per_month     1.0446     11.880      0.088      0.930     -22.855      24.944\n",
      "transport_cost        2.8460      6.820      0.417      0.678     -10.875      16.567\n",
      "==============================================================================\n",
      "Omnibus:                        7.759   Durbin-Watson:                   0.218\n",
      "Prob(Omnibus):                  0.021   Jarque-Bera (JB):                2.502\n",
      "Skew:                          -0.030   Prob(JB):                        0.286\n",
      "Kurtosis:                       1.906   Cond. No.                     6.22e+03\n",
      "==============================================================================\n",
      "\n",
      "Warnings:\n",
      "[1] Standard Errors assume that the covariance matrix of the errors is correctly specified.\n",
      "[2] The condition number is large, 6.22e+03. This might indicate that there are\n",
      "strong multicollinearity or other numerical problems.\n"
     ]
    }
   ],
   "source": [
    "m = ols('monthly_income ~ clients_per_month + transport_cost', df).fit()\n",
    "print(m.summary())"
   ]
  },
  {
   "cell_type": "code",
   "execution_count": 26,
   "metadata": {},
   "outputs": [
    {
     "data": {
      "image/png": "[encoded data removed]",
      "text/plain": [
       "<Figure size 504x504 with 3 Axes>"
      ]
     },
     "metadata": {
      "needs_background": "light"
     },
     "output_type": "display_data"
    }
   ],
   "source": [
    "sns.jointplot(x=\"clients_per_month\", y=\"monthly_income\", data=df, kind = 'reg', fit_reg=True, height=7)\n",
    "plt.show()\n"
   ]
  },
  {
   "cell_type": "code",
   "execution_count": 28,
   "metadata": {},
   "outputs": [],
   "source": [
    "#clustering model\n",
    "import sklearn\n",
    "from sklearn import cluster\n",
    "from sklearn.cluster import KMeans\n"
   ]
  },
  {
   "cell_type": "code",
   "execution_count": 29,
   "metadata": {},
   "outputs": [
    {
     "data": {
      "text/plain": [
       "Text(0, 0.5, 'Clients per Month')"
      ]
     },
     "execution_count": 29,
     "metadata": {},
     "output_type": "execute_result"
    },
    {
     "data": {
      "image/png": "[encoded data removed]",
      "text/plain": [
       "<Figure size 432x288 with 1 Axes>"
      ]
     },
     "metadata": {
      "needs_background": "light"
     },
     "output_type": "display_data"
    }
   ],
   "source": [
    "plt.scatter(df.clients_per_month, df.monthly_income)\n",
    "plt.title('Barbershop Scatterplot')\n",
    "plt.xlabel('Monthly Income')\n",
    "plt.ylabel('Clients per Month')"
   ]
  },
  {
   "cell_type": "code",
   "execution_count": 37,
   "metadata": {},
   "outputs": [
    {
     "ename": "IndexError",
     "evalue": "index 6 is out of bounds for axis 0 with size 5",
     "output_type": "error",
     "traceback": [
      "\u001b[0;31m---------------------------------------------------------------------------\u001b[0m",
      "\u001b[0;31mIndexError\u001b[0m                                Traceback (most recent call last)",
      "\u001b[0;32m<ipython-input-37-41f5c6ce415c>\u001b[0m in \u001b[0;36m<module>\u001b[0;34m\u001b[0m\n\u001b[0;32m----> 1\u001b[0;31m \u001b[0mdf\u001b[0m\u001b[0;34m.\u001b[0m\u001b[0mdrop\u001b[0m\u001b[0;34m(\u001b[0m\u001b[0mdf\u001b[0m\u001b[0;34m.\u001b[0m\u001b[0mcolumns\u001b[0m\u001b[0;34m[\u001b[0m\u001b[0;34m[\u001b[0m\u001b[0;36m0\u001b[0m\u001b[0;34m,\u001b[0m \u001b[0;36m1\u001b[0m\u001b[0;34m,\u001b[0m\u001b[0;36m3\u001b[0m\u001b[0;34m,\u001b[0m \u001b[0;36m6\u001b[0m\u001b[0;34m,\u001b[0m\u001b[0;36m7\u001b[0m\u001b[0;34m,\u001b[0m\u001b[0;36m8\u001b[0m\u001b[0;34m,\u001b[0m \u001b[0;36m10\u001b[0m\u001b[0;34m,\u001b[0m \u001b[0;36m11\u001b[0m\u001b[0;34m,\u001b[0m \u001b[0;36m12\u001b[0m\u001b[0;34m]\u001b[0m\u001b[0;34m]\u001b[0m\u001b[0;34m,\u001b[0m \u001b[0maxis\u001b[0m\u001b[0;34m=\u001b[0m\u001b[0;36m1\u001b[0m\u001b[0;34m,\u001b[0m \u001b[0minplace\u001b[0m\u001b[0;34m=\u001b[0m\u001b[0;32mTrue\u001b[0m\u001b[0;34m)\u001b[0m\u001b[0;34m\u001b[0m\u001b[0;34m\u001b[0m\u001b[0m\n\u001b[0m\u001b[1;32m      2\u001b[0m \u001b[0mkmeans\u001b[0m \u001b[0;34m=\u001b[0m \u001b[0mKMeans\u001b[0m\u001b[0;34m(\u001b[0m\u001b[0mn_clusters\u001b[0m\u001b[0;34m=\u001b[0m\u001b[0;36m2\u001b[0m\u001b[0;34m)\u001b[0m\u001b[0;34m.\u001b[0m\u001b[0mfit\u001b[0m\u001b[0;34m(\u001b[0m\u001b[0mdf\u001b[0m\u001b[0;34m)\u001b[0m\u001b[0;34m\u001b[0m\u001b[0;34m\u001b[0m\u001b[0m\n\u001b[1;32m      3\u001b[0m \u001b[0mcentroids\u001b[0m \u001b[0;34m=\u001b[0m \u001b[0mkmeans\u001b[0m\u001b[0;34m.\u001b[0m\u001b[0mcluster_centers_\u001b[0m\u001b[0;34m\u001b[0m\u001b[0;34m\u001b[0m\u001b[0m\n\u001b[1;32m      4\u001b[0m \u001b[0;34m\u001b[0m\u001b[0m\n\u001b[1;32m      5\u001b[0m \u001b[0mplt\u001b[0m\u001b[0;34m.\u001b[0m\u001b[0mscatter\u001b[0m\u001b[0;34m(\u001b[0m\u001b[0mdf\u001b[0m\u001b[0;34m[\u001b[0m\u001b[0;34m'clients_per_month'\u001b[0m\u001b[0;34m]\u001b[0m\u001b[0;34m,\u001b[0m \u001b[0mdf\u001b[0m\u001b[0;34m[\u001b[0m\u001b[0;34m'monthly_income'\u001b[0m\u001b[0;34m]\u001b[0m\u001b[0;34m,\u001b[0m \u001b[0mc\u001b[0m\u001b[0;34m=\u001b[0m\u001b[0mkmeans\u001b[0m\u001b[0;34m.\u001b[0m\u001b[0mlabels_\u001b[0m\u001b[0;34m,\u001b[0m \u001b[0mcmap\u001b[0m\u001b[0;34m=\u001b[0m\u001b[0;34m'rainbow'\u001b[0m\u001b[0;34m)\u001b[0m\u001b[0;34m\u001b[0m\u001b[0;34m\u001b[0m\u001b[0m\n",
      "\u001b[0;32m~/anaconda3/lib/python3.7/site-packages/pandas/core/indexes/base.py\u001b[0m in \u001b[0;36m__getitem__\u001b[0;34m(self, key)\u001b[0m\n\u001b[1;32m   3939\u001b[0m \u001b[0;34m\u001b[0m\u001b[0m\n\u001b[1;32m   3940\u001b[0m         \u001b[0mkey\u001b[0m \u001b[0;34m=\u001b[0m \u001b[0mcom\u001b[0m\u001b[0;34m.\u001b[0m\u001b[0mvalues_from_object\u001b[0m\u001b[0;34m(\u001b[0m\u001b[0mkey\u001b[0m\u001b[0;34m)\u001b[0m\u001b[0;34m\u001b[0m\u001b[0;34m\u001b[0m\u001b[0m\n\u001b[0;32m-> 3941\u001b[0;31m         \u001b[0mresult\u001b[0m \u001b[0;34m=\u001b[0m \u001b[0mgetitem\u001b[0m\u001b[0;34m(\u001b[0m\u001b[0mkey\u001b[0m\u001b[0;34m)\u001b[0m\u001b[0;34m\u001b[0m\u001b[0;34m\u001b[0m\u001b[0m\n\u001b[0m\u001b[1;32m   3942\u001b[0m         \u001b[0;32mif\u001b[0m \u001b[0;32mnot\u001b[0m \u001b[0mis_scalar\u001b[0m\u001b[0;34m(\u001b[0m\u001b[0mresult\u001b[0m\u001b[0;34m)\u001b[0m\u001b[0;34m:\u001b[0m\u001b[0;34m\u001b[0m\u001b[0;34m\u001b[0m\u001b[0m\n\u001b[1;32m   3943\u001b[0m             \u001b[0;32mif\u001b[0m \u001b[0mnp\u001b[0m\u001b[0;34m.\u001b[0m\u001b[0mndim\u001b[0m\u001b[0;34m(\u001b[0m\u001b[0mresult\u001b[0m\u001b[0;34m)\u001b[0m \u001b[0;34m>\u001b[0m \u001b[0;36m1\u001b[0m\u001b[0;34m:\u001b[0m\u001b[0;34m\u001b[0m\u001b[0;34m\u001b[0m\u001b[0m\n",
      "\u001b[0;31mIndexError\u001b[0m: index 6 is out of bounds for axis 0 with size 5"
     ]
    }
   ],
   "source": [
    "df.drop(df.columns[[0, 1,3, 6,7,8, 10, 11, 12]], axis=1, inplace=True)\n",
    "kmeans = KMeans(n_clusters=2).fit(df)\n",
    "centroids = kmeans.cluster_centers_\n",
    "\n",
    "plt.scatter(df['clients_per_month'], df['monthly_income'], c=kmeans.labels_, cmap='rainbow')\n",
    "plt.show()\n",
    "\n"
   ]
  },
  {
   "cell_type": "code",
   "execution_count": null,
   "metadata": {},
   "outputs": [],
   "source": [
    "import numpy as np\n",
    "import matplotlib.pyplot as plt\n",
    "import pandas as pd\n",
    "from apyori import apriori"
   ]
  },
  {
   "cell_type": "code",
   "execution_count": null,
   "metadata": {},
   "outputs": [],
   "source": [
    "records = []\n",
    "for i in range(0, 50):\n",
    "    records.append([str(df.values[i,j]) for j in range(5, 6)])"
   ]
  },
  {
   "cell_type": "code",
   "execution_count": null,
   "metadata": {},
   "outputs": [],
   "source": [
    "association_rules = apriori(records, min_support=0.0045, min_confidence=0.2, min_lift=3, min_length=2)\n",
    "association_results = list(association_rules)"
   ]
  },
  {
   "cell_type": "code",
   "execution_count": null,
   "metadata": {},
   "outputs": [],
   "source": [
    "print(len(association_rules))\n",
    "print(association_rules[0])"
   ]
  },
  {
   "cell_type": "code",
   "execution_count": null,
   "metadata": {},
   "outputs": [],
   "source": [
    "for item in association_rules:\n",
    "\n",
    "    # first index of the inner list\n",
    "    # Contains base item and add item\n",
    "    pair = item[0] \n",
    "    items = [x for x in pair]\n",
    "    print(\"Rule: \" + items[0] + \" -> \" + items[1])\n",
    "\n",
    "    #second index of the inner list\n",
    "    print(\"Support: \" + str(item[1]))\n",
    "\n",
    "    #third index of the list located at 0th\n",
    "    #of the third index of the inner list\n",
    "\n",
    "    print(\"Confidence: \" + str(item[2][0][2]))\n",
    "    print(\"Lift: \" + str(item[2][0][3]))\n",
    "    print(\"=====================================\")"
   ]
  },
  {
   "cell_type": "code",
   "execution_count": null,
   "metadata": {},
   "outputs": [],
   "source": []
  }
 ],
 "metadata": {
  "kernelspec": {
   "display_name": "Python 3",
   "language": "python",
   "name": "python3"
  },
  "language_info": {
   "codemirror_mode": {
    "name": "ipython",
    "version": 3
   },
   "file_extension": ".py",
   "mimetype": "text/x-python",
   "name": "python",
   "nbconvert_exporter": "python",
   "pygments_lexer": "ipython3",
   "version": "3.7.6"
  }
 },
 "nbformat": 4,
 "nbformat_minor": 4
}
